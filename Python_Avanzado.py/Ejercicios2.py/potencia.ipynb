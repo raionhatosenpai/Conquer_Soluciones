{
 "cells": [
  {
   "cell_type": "code",
   "execution_count": null,
   "id": "7758bf06",
   "metadata": {},
   "outputs": [],
   "source": [
    "# POTENCIA \n",
    "# Implementa una función recursiva llamada potencia que calcule el resultado \n",
    "# de elevar un número a una potencia dada. Puedes asumir que tanto el \n",
    "# número como la potencia son enteros no negativos."
   ]
  },
  {
   "cell_type": "code",
   "execution_count": 4,
   "id": "fca4f543",
   "metadata": {},
   "outputs": [
    {
     "name": "stdout",
     "output_type": "stream",
     "text": [
      "8\n"
     ]
    }
   ],
   "source": [
    "def potencia(base, exponente):\n",
    "    # Caso base: cualquier número elevado a la potencia 0 es 1\n",
    "    if exponente == 0:\n",
    "        return 1\n",
    "    else:\n",
    "        # Llamada recursiva: base * potencia(base, exponente - 1)\n",
    "        return base * potencia(base, exponente - 1)\n",
    "# Ejemplo de uso\n",
    "resultado = potencia(2, 3)\n",
    "print(resultado)  # Salida: 8 (2^3 = 8)\n"
   ]
  }
 ],
 "metadata": {
  "kernelspec": {
   "display_name": "work",
   "language": "python",
   "name": "python3"
  },
  "language_info": {
   "codemirror_mode": {
    "name": "ipython",
    "version": 3
   },
   "file_extension": ".py",
   "mimetype": "text/x-python",
   "name": "python",
   "nbconvert_exporter": "python",
   "pygments_lexer": "ipython3",
   "version": "3.11.13"
  }
 },
 "nbformat": 4,
 "nbformat_minor": 5
}
